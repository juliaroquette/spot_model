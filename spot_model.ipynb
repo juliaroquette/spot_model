{
 "cells": [
  {
   "cell_type": "markdown",
   "metadata": {},
   "source": [
    "# 1. Spot Model\n",
    "\n",
    "**@juliaroquette** Here I am defining a simple spot model to derive typical spot induced variability amplitudes in widely used photometric bands. This is the same model I implemented for [Roquette et al. (2010)](https://ui.adsabs.harvard.edu/abs/2020A%26A...640A.128R/abstract), but there I only applied it for the JHK near-infrared bands. "
   ]
  },
  {
   "cell_type": "code",
   "execution_count": 20,
   "metadata": {},
   "outputs": [],
   "source": [
    "import numpy as np\n",
    "import astropy.units as u\n",
    "import astropy.constants as q\n",
    "import matplotlib.pyplot as plt"
   ]
  },
  {
   "cell_type": "markdown",
   "metadata": {},
   "source": [
    "The first ingredient is a Plank curve as we assume that both the star and the spot emit like Black-Bodies. My BlackBody model will consider the irradiance of a body with temperature $T$ at a given wavelength $\\lambda$. In my definition below, I am considering a sphere emitting (which introduces a $4\\phi$ factor), although since we will be dividing $E_{e, spot}$ and $E_{e, star}$ in equation (2), this assumption won't cause any problm.\n",
    "\n",
    "\\begin{equation}\n",
    "E_e(\\lambda; T) = \\frac{8\\pi hc^2}{\\lambda^5} ( \\frac{1}{e^{\\frac{hc}{\\lambda kT}} - 1} )\n",
    "\\end{equation}"
   ]
  },
  {
   "cell_type": "code",
   "execution_count": 5,
   "metadata": {},
   "outputs": [],
   "source": [
    "def myBlackBody(wl, Teff):\n",
    "    \"\"\"\n",
    "    BlackBody equation considering a sphere irradiating. \n",
    "    Equation (1) above.\n",
    "    \"\"\"\n",
    "    assert wl.decompose().unit == u.m\n",
    "    assert Teff.unit == u.K\n",
    "    B = (4. * np.pi * 2. * q.h * q.c**2 / wl**5) * 1 / (np.exp(q.h * q.c / (wl * q.k_B * Teff)) - 1)\n",
    "    return B.to(u.W/u.m**2/u.m)"
   ]
  },
  {
   "cell_type": "code",
   "execution_count": 6,
   "metadata": {},
   "outputs": [
    {
     "data": {
      "text/latex": [
       "$1.5214344 \\times 10^{14} \\; \\mathrm{\\frac{W}{m^{3}}}$"
      ],
      "text/plain": [
       "<Quantity 1.52143444e+14 W / m3>"
      ]
     },
     "execution_count": 6,
     "metadata": {},
     "output_type": "execute_result"
    }
   ],
   "source": [
    "myBlackBody(500 * u.nm, 5000 * u.K)"
   ]
  },
  {
   "cell_type": "markdown",
   "metadata": {},
   "source": [
    "The amplitude of variability induced by a spot can be written as in [Bouvier et al. 1993](ttps://ui.adsabs.harvard.edu/abs/1993A%26A...272..176B/abstract):\n",
    "\n",
    "\\begin{equation}\n",
    "\\Delta m=-2.5\\log{\\Bigg(1-\\frac{f}{1-\\frac{\\mu}{3}}\\Bigg[1-\\frac{B_\\lambda(T_\\mathrm{spot})}{B_\\lambda(T_*)}\\Bigg]\\Bigg)},\n",
    "\\end{equation}\n",
    "\n",
    "where:\n",
    "- $m$ is the magnitude at a filter with a effective wavelength $\\lambda$\n",
    "- $T_{spot}$ and $T_{*}$ are the spot and stellar temperature respectively. \n",
    "- $f$ is the fraction of coverage by spots. \n",
    "- $\\mu$ is the limb darkening coefficient for that filter"
   ]
  },
  {
   "cell_type": "code",
   "execution_count": 16,
   "metadata": {},
   "outputs": [],
   "source": [
    "def Amp_spot(Teff, Tspot, wavelength, fraction_coverage, limb_darkening):\n",
    "    assert Teff.unit == u.K\n",
    "    assert Tspot.unit == u.K\n",
    "    assert wavelength.decompose().unit == u.m\n",
    "    return -2.5 * np.log10(1 - \\\n",
    "        (fraction_coverage / (1. - limb_darkening / 3.)) *\\\n",
    "            (1 - myBlackBody(wavelength, Tspot) / myBlackBody(wavelength,Teff)))"
   ]
  },
  {
   "cell_type": "markdown",
   "metadata": {},
   "source": [
    "# 1.1 Limb-Darkening"
   ]
  },
  {
   "cell_type": "markdown",
   "metadata": {},
   "source": [
    "The limb-darkening coefficients are from [Claret & Bloemen 2011](https://ui.adsabs.harvard.edu/abs/2011A%26A...529A..75C/abstract)"
   ]
  },
  {
   "cell_type": "code",
   "execution_count": 8,
   "metadata": {},
   "outputs": [
    {
     "name": "stderr",
     "output_type": "stream",
     "text": [
      "WARNING: UnitsWarning: '[cm/s2]' did not parse as fits unit: Invalid character at col 0 If this is meant to be a custom unit, define it with 'u.def_unit'. To have it recognized inside a file reader or other code, enable it with 'u.add_enabled_units'. For details, see https://docs.astropy.org/en/latest/units/combining_and_defining.html [astropy.units.core]\n",
      "WARNING: UnitsWarning: '[Sun]' did not parse as fits unit: Invalid character at col 0 If this is meant to be a custom unit, define it with 'u.def_unit'. To have it recognized inside a file reader or other code, enable it with 'u.add_enabled_units'. For details, see https://docs.astropy.org/en/latest/units/combining_and_defining.html [astropy.units.core]\n"
     ]
    },
    {
     "data": {
      "text/plain": [
       "540736"
      ]
     },
     "execution_count": 8,
     "metadata": {},
     "output_type": "execute_result"
    }
   ],
   "source": [
    "from astropy.table import Table\n",
    "limb_darkening_coefficients = Table.read('LimbDarkeningClaret&Blomen_2011.fit', format='fits')\n",
    "len(limb_darkening_coefficients)"
   ]
  },
  {
   "cell_type": "markdown",
   "metadata": {},
   "source": [
    "For the moment, I will assume a $logg\\approx4$ for YSOs and consider only solar metalicity ($Z = log[M/H] = 0$)"
   ]
  },
  {
   "cell_type": "code",
   "execution_count": 9,
   "metadata": {},
   "outputs": [],
   "source": [
    "limb_darkening_coefficients = limb_darkening_coefficients[\\\n",
    "    (limb_darkening_coefficients['logg'] == 4.) &\\\n",
    "        (limb_darkening_coefficients['Z'] == 0.)]"
   ]
  },
  {
   "cell_type": "markdown",
   "metadata": {},
   "source": [
    " I will ignore the 'uvby' system as no one uses this nowadays. "
   ]
  },
  {
   "cell_type": "code",
   "execution_count": 10,
   "metadata": {},
   "outputs": [
    {
     "name": "stdout",
     "output_type": "stream",
     "text": [
      "18956\n",
      "16108\n"
     ]
    }
   ],
   "source": [
    "print(len(limb_darkening_coefficients))\n",
    "for ft in [\"u \", 'v ', 'b ', 'y ']:\n",
    "    limb_darkening_coefficients = limb_darkening_coefficients[limb_darkening_coefficients['Filt'] != ft]\n",
    "print(len(limb_darkening_coefficients))"
   ]
  },
  {
   "cell_type": "markdown",
   "metadata": {},
   "source": [
    "I wll also drop temperatures larger than 7,300K, since I am interested in low-mass YSOs which will not be more massive than F0."
   ]
  },
  {
   "cell_type": "code",
   "execution_count": 11,
   "metadata": {},
   "outputs": [
    {
     "name": "stdout",
     "output_type": "stream",
     "text": [
      "16108\n",
      "4280\n"
     ]
    }
   ],
   "source": [
    "print(len(limb_darkening_coefficients))\n",
    "limb_darkening_coefficients = limb_darkening_coefficients[limb_darkening_coefficients['Teff'] <= 7300.]\n",
    "print(len(limb_darkening_coefficients))"
   ]
  },
  {
   "cell_type": "code",
   "execution_count": 12,
   "metadata": {},
   "outputs": [
    {
     "data": {
      "text/html": [
       "<div><i>Table length=4280</i>\n",
       "<table id=\"table4849441936\" class=\"table-striped table-bordered table-condensed\">\n",
       "<thead><tr><th>logg</th><th>Teff</th><th>Z</th><th>xi</th><th>u</th><th>Filt</th><th>Met</th><th>Mod</th></tr></thead>\n",
       "<thead><tr><th>[cm/s2]</th><th>K</th><th>[Sun]</th><th>km / s</th><th></th><th></th><th></th><th></th></tr></thead>\n",
       "<thead><tr><th>float64</th><th>float64</th><th>float64</th><th>float64</th><th>float64</th><th>bytes2</th><th>bytes1</th><th>bytes2</th></tr></thead>\n",
       "<tr><td>4.0</td><td>3500.0</td><td>0.0</td><td>0.0</td><td>0.6846</td><td>Kp</td><td>L</td><td>A</td></tr>\n",
       "<tr><td>4.0</td><td>3750.0</td><td>0.0</td><td>0.0</td><td>0.7109</td><td>Kp</td><td>L</td><td>A</td></tr>\n",
       "<tr><td>4.0</td><td>4000.0</td><td>0.0</td><td>0.0</td><td>0.7545</td><td>Kp</td><td>L</td><td>A</td></tr>\n",
       "<tr><td>4.0</td><td>4250.0</td><td>0.0</td><td>0.0</td><td>0.7548</td><td>Kp</td><td>L</td><td>A</td></tr>\n",
       "<tr><td>4.0</td><td>4500.0</td><td>0.0</td><td>0.0</td><td>0.7308</td><td>Kp</td><td>L</td><td>A</td></tr>\n",
       "<tr><td>4.0</td><td>4750.0</td><td>0.0</td><td>0.0</td><td>0.7058</td><td>Kp</td><td>L</td><td>A</td></tr>\n",
       "<tr><td>4.0</td><td>5000.0</td><td>0.0</td><td>0.0</td><td>0.6798</td><td>Kp</td><td>L</td><td>A</td></tr>\n",
       "<tr><td>4.0</td><td>5250.0</td><td>0.0</td><td>0.0</td><td>0.6524</td><td>Kp</td><td>L</td><td>A</td></tr>\n",
       "<tr><td>4.0</td><td>5500.0</td><td>0.0</td><td>0.0</td><td>0.6243</td><td>Kp</td><td>L</td><td>A</td></tr>\n",
       "<tr><td>...</td><td>...</td><td>...</td><td>...</td><td>...</td><td>...</td><td>...</td><td>...</td></tr>\n",
       "<tr><td>4.0</td><td>5000.0</td><td>0.0</td><td>8.0</td><td>0.4718</td><td>z&apos;</td><td>F</td><td>P</td></tr>\n",
       "<tr><td>4.0</td><td>5250.0</td><td>0.0</td><td>8.0</td><td>0.443</td><td>z&apos;</td><td>F</td><td>P</td></tr>\n",
       "<tr><td>4.0</td><td>5500.0</td><td>0.0</td><td>8.0</td><td>0.4146</td><td>z&apos;</td><td>F</td><td>P</td></tr>\n",
       "<tr><td>4.0</td><td>5750.0</td><td>0.0</td><td>8.0</td><td>0.3873</td><td>z&apos;</td><td>F</td><td>P</td></tr>\n",
       "<tr><td>4.0</td><td>6000.0</td><td>0.0</td><td>8.0</td><td>0.3619</td><td>z&apos;</td><td>F</td><td>P</td></tr>\n",
       "<tr><td>4.0</td><td>6250.0</td><td>0.0</td><td>8.0</td><td>0.3407</td><td>z&apos;</td><td>F</td><td>P</td></tr>\n",
       "<tr><td>4.0</td><td>6500.0</td><td>0.0</td><td>8.0</td><td>0.3231</td><td>z&apos;</td><td>F</td><td>P</td></tr>\n",
       "<tr><td>4.0</td><td>6750.0</td><td>0.0</td><td>8.0</td><td>0.3071</td><td>z&apos;</td><td>F</td><td>P</td></tr>\n",
       "<tr><td>4.0</td><td>7000.0</td><td>0.0</td><td>8.0</td><td>0.2926</td><td>z&apos;</td><td>F</td><td>P</td></tr>\n",
       "<tr><td>4.0</td><td>7250.0</td><td>0.0</td><td>8.0</td><td>0.2801</td><td>z&apos;</td><td>F</td><td>P</td></tr>\n",
       "</table></div>"
      ],
      "text/plain": [
       "<Table length=4280>\n",
       "  logg    Teff     Z       xi      u     Filt   Met    Mod  \n",
       "[cm/s2]    K     [Sun]   km / s                             \n",
       "float64 float64 float64 float64 float64 bytes2 bytes1 bytes2\n",
       "------- ------- ------- ------- ------- ------ ------ ------\n",
       "    4.0  3500.0     0.0     0.0  0.6846     Kp      L     A\n",
       "    4.0  3750.0     0.0     0.0  0.7109     Kp      L     A\n",
       "    4.0  4000.0     0.0     0.0  0.7545     Kp      L     A\n",
       "    4.0  4250.0     0.0     0.0  0.7548     Kp      L     A\n",
       "    4.0  4500.0     0.0     0.0  0.7308     Kp      L     A\n",
       "    4.0  4750.0     0.0     0.0  0.7058     Kp      L     A\n",
       "    4.0  5000.0     0.0     0.0  0.6798     Kp      L     A\n",
       "    4.0  5250.0     0.0     0.0  0.6524     Kp      L     A\n",
       "    4.0  5500.0     0.0     0.0  0.6243     Kp      L     A\n",
       "    ...     ...     ...     ...     ...    ...    ...    ...\n",
       "    4.0  5000.0     0.0     8.0  0.4718     z'      F     P\n",
       "    4.0  5250.0     0.0     8.0   0.443     z'      F     P\n",
       "    4.0  5500.0     0.0     8.0  0.4146     z'      F     P\n",
       "    4.0  5750.0     0.0     8.0  0.3873     z'      F     P\n",
       "    4.0  6000.0     0.0     8.0  0.3619     z'      F     P\n",
       "    4.0  6250.0     0.0     8.0  0.3407     z'      F     P\n",
       "    4.0  6500.0     0.0     8.0  0.3231     z'      F     P\n",
       "    4.0  6750.0     0.0     8.0  0.3071     z'      F     P\n",
       "    4.0  7000.0     0.0     8.0  0.2926     z'      F     P\n",
       "    4.0  7250.0     0.0     8.0  0.2801     z'      F     P"
      ]
     },
     "execution_count": 12,
     "metadata": {},
     "output_type": "execute_result"
    }
   ],
   "source": [
    "limb_darkening_coefficients"
   ]
  },
  {
   "cell_type": "markdown",
   "metadata": {},
   "source": [
    "Finally, I used the [SVO-database](http://svo2.cab.inta-csic.es/svo/theory/fps/index.php?mode=browse&gname=Generic&gname2=Johnson_UBVRIJHKL&asttype=) to retrieve some extra info on the filters for which they provide limb-darkening."
   ]
  },
  {
   "cell_type": "code",
   "execution_count": 13,
   "metadata": {},
   "outputs": [],
   "source": [
    "effective_wavelength = {\n",
    "    'Kp': 5978.14*u.angstrom,\n",
    "    'U': 3551.05*u.angstrom,\n",
    "    'B': 4361.93*u.angstrom,\n",
    "    'V': 5467.57*u.angstrom,\n",
    "    'R': 6695.83*u.angstrom,\n",
    "    'I': 8568.89*u.angstrom,\n",
    "    'J': 12094.21*u.angstrom,\n",
    "    'H': 16303.58*u.angstrom,\n",
    "    'K': 21429.69*u.angstrom, \n",
    "    'S1': 35074.83*u.angstrom,\n",
    "    'S2': 44365.56*u.angstrom,\n",
    "    'S3': 56280.62*u.angstrom,\n",
    "    'S4': 75890.54*u.angstrom,\n",
    "    'C':  10895.94*u.angstrom,\n",
    "    \"g'\": 5690.45*u.angstrom,\n",
    "    \"i'\": 8730.62*u.angstrom,\n",
    "    \"r'\": 7176.14*u.angstrom,\n",
    "    \"z'\": 13500.00*u.angstrom,\n",
    "    \"u'\": 3987.70*u.angstrom\n",
    "}"
   ]
  },
  {
   "cell_type": "code",
   "execution_count": 14,
   "metadata": {},
   "outputs": [],
   "source": [
    "Names = {\n",
    "    'Kp': 'Kepler', \n",
    "    'U': 'Johnson-Cousin',\n",
    "    'B': 'Johnson-Cousin',\n",
    "    'V': 'Johnson-Cousin',\n",
    "    'R': 'Johnson-Cousin',\n",
    "    'I': 'Johnson-Cousin',\n",
    "    'J': 'Johnson-Cousin',\n",
    "    'H': 'Johnson-Cousin',\n",
    "    'K': 'Johnson-Cousin',\n",
    "    'S1': 'Spitzer/IRAC',\n",
    "    'S2': 'Spitzer/IRAC',\n",
    "    'S3': 'Spitzer/IRAC',\n",
    "    'S4': 'Spitzer/IRAC',\n",
    "    \"u'\": 'Sloan',\n",
    "    \"g'\": 'Sloan',\n",
    "    \"r'\": 'Sloan',\n",
    "    \"i'\": 'Sloan',\n",
    "    \"z'\": 'Sloan',\n",
    "    'C': 'CoRoT'\n",
    "}"
   ]
  },
  {
   "cell_type": "markdown",
   "metadata": {},
   "source": [
    "### 1.1.1 Example for a cold spot 500 K colder than the star"
   ]
  },
  {
   "cell_type": "code",
   "execution_count": 19,
   "metadata": {},
   "outputs": [],
   "source": [
    "limb_darkening_coefficients_ = limb_darkening_coefficients[limb_darkening_coefficients['Filt'] == 'C ']\n",
    "T_spot_ = []\n",
    "Teff_ = []\n",
    "f_ = []\n",
    "Amp_ = []\n",
    "for i, Teff in enumerate(limb_darkening_coefficients_['Teff']):\n",
    "    T_spot = (Teff - 500.)*u.K\n",
    "    Teff = Teff*u.K\n",
    "    for f in [0.1, 1, 10., 30.]:\n",
    "        # print(\"T* {0}, Tspot {1}, f {2}, $\\Delta$ m for CoRoT: {3}\".format(Teff,\\\n",
    "            # T_spot, f, Amp_spot(Teff, T_spot, effective_wavelength['C'].to(u.m), f/100.,\\\n",
    "                # limb_darkening_coefficients_['u'][i])))\n",
    "        T_spot_.append(T_spot)\n",
    "        Teff_.append(Teff)\n",
    "        f_.append(f/100.)\n",
    "        Amp_.append(Amp_spot(Teff, T_spot, effective_wavelength['C'].to(u.m), f/100.,\\\n",
    "                limb_darkening_coefficients_['u'][i]))\n",
    "    "
   ]
  },
  {
   "cell_type": "code",
   "execution_count": 24,
   "metadata": {},
   "outputs": [
    {
     "name": "stdout",
     "output_type": "stream",
     "text": [
      "0.00018508112429642892 0.6577679513786551\n"
     ]
    },
    {
     "data": {
      "image/png": "[encoded data removed]",
      "text/plain": [
       "<Figure size 640x480 with 1 Axes>"
      ]
     },
     "metadata": {},
     "output_type": "display_data"
    }
   ],
   "source": [
    "plt.hist(Amp_, bins=20)\n",
    "plt.xlabel('Amplitude')\n",
    "print(min(Amp_), max(Amp_))"
   ]
  },
  {
   "cell_type": "markdown",
   "metadata": {},
   "source": [
    "## 1.2 Typical Spots in YSOs"
   ]
  },
  {
   "cell_type": "markdown",
   "metadata": {},
   "source": [
    "The typical temperatures and spot coverages will be based on the spot parameters derived by [Venuti et al. 2015](https://ui.adsabs.harvard.edu/abs/2015A%26A...581A..66V/abstract). This can be read from the table `Venuti15_spot_parameters.csv`, which has been processed by myself in the context of Roquette+2020 in order to transform Laura's spectral types into temperatures and use it to transform $\\Delta T$ into spot and stellar temperatures. This file also contains some parameters published with Laura's paper, including the ground truth for their amplitudes in the $u$ and $r$ bands. Some of these parameters were retrieved from CDS, others were provided by Laura by private communication."
   ]
  },
  {
   "cell_type": "code",
   "execution_count": 25,
   "metadata": {},
   "outputs": [
    {
     "data": {
      "text/html": [
       "<div>\n",
       "<style scoped>\n",
       "    .dataframe tbody tr th:only-of-type {\n",
       "        vertical-align: middle;\n",
       "    }\n",
       "\n",
       "    .dataframe tbody tr th {\n",
       "        vertical-align: top;\n",
       "    }\n",
       "\n",
       "    .dataframe thead th {\n",
       "        text-align: right;\n",
       "    }\n",
       "</style>\n",
       "<table border=\"1\" class=\"dataframe\">\n",
       "  <thead>\n",
       "    <tr style=\"text-align: right;\">\n",
       "      <th></th>\n",
       "      <th>Mon</th>\n",
       "      <th>SpT</th>\n",
       "      <th>Tspot</th>\n",
       "      <th>Teff</th>\n",
       "      <th>Feq(%)</th>\n",
       "      <th>Flag</th>\n",
       "      <th>Class</th>\n",
       "      <th>umed</th>\n",
       "      <th>rmed</th>\n",
       "      <th>uamp</th>\n",
       "      <th>ramp</th>\n",
       "      <th>urms</th>\n",
       "      <th>rrms</th>\n",
       "      <th>slope</th>\n",
       "      <th>e_slope</th>\n",
       "      <th>_RA</th>\n",
       "      <th>_DE</th>\n",
       "    </tr>\n",
       "  </thead>\n",
       "  <tbody>\n",
       "    <tr>\n",
       "      <th>0</th>\n",
       "      <td>57</td>\n",
       "      <td>M3</td>\n",
       "      <td>2697.376319</td>\n",
       "      <td>3357.376319</td>\n",
       "      <td>25.0</td>\n",
       "      <td>*</td>\n",
       "      <td>w</td>\n",
       "      <td>20.23</td>\n",
       "      <td>16.00</td>\n",
       "      <td>0.385</td>\n",
       "      <td>0.308</td>\n",
       "      <td>0.12</td>\n",
       "      <td>0.100</td>\n",
       "      <td>3.20</td>\n",
       "      <td>0.90</td>\n",
       "      <td>100.26641</td>\n",
       "      <td>9.96930</td>\n",
       "    </tr>\n",
       "    <tr>\n",
       "      <th>1</th>\n",
       "      <td>78</td>\n",
       "      <td>M3</td>\n",
       "      <td>3697.376319</td>\n",
       "      <td>3357.376319</td>\n",
       "      <td>10.0</td>\n",
       "      <td>*</td>\n",
       "      <td>w</td>\n",
       "      <td>22.14</td>\n",
       "      <td>18.09</td>\n",
       "      <td>0.315</td>\n",
       "      <td>0.134</td>\n",
       "      <td>0.09</td>\n",
       "      <td>0.040</td>\n",
       "      <td>0.50</td>\n",
       "      <td>0.30</td>\n",
       "      <td>100.25272</td>\n",
       "      <td>10.03735</td>\n",
       "    </tr>\n",
       "    <tr>\n",
       "      <th>2</th>\n",
       "      <td>80</td>\n",
       "      <td>M3</td>\n",
       "      <td>5597.376319</td>\n",
       "      <td>3357.376319</td>\n",
       "      <td>1.0</td>\n",
       "      <td>*</td>\n",
       "      <td>c</td>\n",
       "      <td>21.86</td>\n",
       "      <td>17.94</td>\n",
       "      <td>0.494</td>\n",
       "      <td>0.077</td>\n",
       "      <td>0.13</td>\n",
       "      <td>0.019</td>\n",
       "      <td>0.11</td>\n",
       "      <td>0.05</td>\n",
       "      <td>100.32481</td>\n",
       "      <td>10.06726</td>\n",
       "    </tr>\n",
       "    <tr>\n",
       "      <th>3</th>\n",
       "      <td>90</td>\n",
       "      <td>M3</td>\n",
       "      <td>3397.376319</td>\n",
       "      <td>3357.376319</td>\n",
       "      <td>59.0</td>\n",
       "      <td>*</td>\n",
       "      <td>c</td>\n",
       "      <td>20.44</td>\n",
       "      <td>16.72</td>\n",
       "      <td>0.664</td>\n",
       "      <td>0.371</td>\n",
       "      <td>0.16</td>\n",
       "      <td>0.100</td>\n",
       "      <td>1.22</td>\n",
       "      <td>0.10</td>\n",
       "      <td>100.28733</td>\n",
       "      <td>9.56280</td>\n",
       "    </tr>\n",
       "    <tr>\n",
       "      <th>4</th>\n",
       "      <td>102</td>\n",
       "      <td>M3</td>\n",
       "      <td>2497.376319</td>\n",
       "      <td>3357.376319</td>\n",
       "      <td>13.0</td>\n",
       "      <td>*</td>\n",
       "      <td>w</td>\n",
       "      <td>21.10</td>\n",
       "      <td>16.86</td>\n",
       "      <td>0.121</td>\n",
       "      <td>0.094</td>\n",
       "      <td>0.04</td>\n",
       "      <td>0.020</td>\n",
       "      <td>0.70</td>\n",
       "      <td>0.30</td>\n",
       "      <td>100.18014</td>\n",
       "      <td>9.52084</td>\n",
       "    </tr>\n",
       "  </tbody>\n",
       "</table>\n",
       "</div>"
      ],
      "text/plain": [
       "   Mon SpT        Tspot         Teff  Feq(%) Flag Class   umed   rmed   uamp  \\\n",
       "0   57  M3  2697.376319  3357.376319    25.0    *     w  20.23  16.00  0.385   \n",
       "1   78  M3  3697.376319  3357.376319    10.0    *     w  22.14  18.09  0.315   \n",
       "2   80  M3  5597.376319  3357.376319     1.0    *     c  21.86  17.94  0.494   \n",
       "3   90  M3  3397.376319  3357.376319    59.0    *     c  20.44  16.72  0.664   \n",
       "4  102  M3  2497.376319  3357.376319    13.0    *     w  21.10  16.86  0.121   \n",
       "\n",
       "    ramp  urms   rrms  slope  e_slope        _RA       _DE  \n",
       "0  0.308  0.12  0.100   3.20     0.90  100.26641   9.96930  \n",
       "1  0.134  0.09  0.040   0.50     0.30  100.25272  10.03735  \n",
       "2  0.077  0.13  0.019   0.11     0.05  100.32481  10.06726  \n",
       "3  0.371  0.16  0.100   1.22     0.10  100.28733   9.56280  \n",
       "4  0.094  0.04  0.020   0.70     0.30  100.18014   9.52084  "
      ]
     },
     "execution_count": 25,
     "metadata": {},
     "output_type": "execute_result"
    }
   ],
   "source": [
    "import pandas as pd\n",
    "laura_spots = pd.read_csv('Venuti15_spot_parameters.csv')\n",
    "laura_spots.head()"
   ]
  },
  {
   "cell_type": "code",
   "execution_count": null,
   "metadata": {},
   "outputs": [],
   "source": []
  },
  {
   "cell_type": "markdown",
   "metadata": {},
   "source": []
  }
 ],
 "metadata": {
  "kernelspec": {
   "display_name": "NEMESIS",
   "language": "python",
   "name": "python3"
  },
  "language_info": {
   "codemirror_mode": {
    "name": "ipython",
    "version": 3
   },
   "file_extension": ".py",
   "mimetype": "text/x-python",
   "name": "python",
   "nbconvert_exporter": "python",
   "pygments_lexer": "ipython3",
   "version": "3.10.13"
  }
 },
 "nbformat": 4,
 "nbformat_minor": 2
}
