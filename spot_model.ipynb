{
 "cells": [
  {
   "cell_type": "markdown",
   "metadata": {},
   "source": [
    "# Spot Model\n",
    "\n",
    "**@juliaroquette** Here I am defining a simple spot model to derive typical spot induced variability amplitudes in widely used photometric bands. This is the same model I implemented for [Roquette et al. (2010)](https://ui.adsabs.harvard.edu/abs/2020A%26A...640A.128R/abstract), but there I only applied it for the JHK near-infrared bands. "
   ]
  },
  {
   "cell_type": "code",
   "execution_count": 9,
   "metadata": {},
   "outputs": [],
   "source": [
    "import numpy as np\n",
    "import astropy.units as u\n",
    "import astropy.constants as q"
   ]
  },
  {
   "cell_type": "markdown",
   "metadata": {},
   "source": [
    "The first ingredient is a Plank curve as we assume that both the star and the spot emit like Black-Bodies. My BlackBody model will consider the irradiance of a body with temperature $T$ at a given wavelength $\\lambda$. In my definition below, I am considering a sphere emitting (which introduces a $4\\phi$ factor), although since we will be dividing $E_{e, spot}$ and $E_{e, star}$ in equation (2), this assumption won't cause any problm.\n",
    "\n",
    "\\begin{equation}\n",
    "E_e(\\lambda; T) = \\frac{8\\pi hc^2}{\\lambda^5} ( \\frac{1}{e^{\\frac{hc}{\\lambda kT}} - 1} )\n",
    "\\end{equation}"
   ]
  },
  {
   "cell_type": "code",
   "execution_count": 13,
   "metadata": {},
   "outputs": [],
   "source": [
    "def myBlackBody(wl, Teff):\n",
    "    \"\"\"\n",
    "    BlackBody equation considering a sphere irradiating. \n",
    "    Equation (1) above.\n",
    "    \"\"\"\n",
    "    assert wl.decompose().unit == u.m\n",
    "    assert Teff.unit == u.K\n",
    "    B = (4. * np.pi * 2. * q.h * q.c**2 / wl**5) * 1 / (np.exp(q.h * q.c / (wl * q.k_B * Teff)) - 1)\n",
    "    return B.to(u.W/u.m**2/u.m)"
   ]
  },
  {
   "cell_type": "code",
   "execution_count": 14,
   "metadata": {},
   "outputs": [
    {
     "data": {
      "text/latex": [
       "$1.5214344 \\times 10^{14} \\; \\mathrm{\\frac{W}{m^{3}}}$"
      ],
      "text/plain": [
       "<Quantity 1.52143444e+14 W / m3>"
      ]
     },
     "execution_count": 14,
     "metadata": {},
     "output_type": "execute_result"
    }
   ],
   "source": [
    "myBlackBody(500 * u.nm, 5000 * u.K)"
   ]
  },
  {
   "cell_type": "markdown",
   "metadata": {},
   "source": [
    "The amplitude of variability induced by a spot can be written as in [Bouvier et al. 1993](ttps://ui.adsabs.harvard.edu/abs/1993A%26A...272..176B/abstract):\n",
    "\n",
    "\\begin{equation}\n",
    "\\Delta m=-2.5\\log{\\Bigg(1-\\frac{f}{1-\\frac{\\mu}{3}}\\Bigg[1-\\frac{B_\\lambda(T_\\mathrm{spot})}{B_\\lambda(T_*)}\\Bigg]\\Bigg)},\n",
    "\\end{equation}\n",
    "\n",
    "where:\n",
    "- $m$ is the magnitude at a filter with a effective wavelength $\\lambda$\n",
    "- $T_{spot}$ and $T_{*}$ are the spot and stellar temperature respectively. \n",
    "- $f$ is the fraction of coverage by spots. \n",
    "- $\\mu$ is the limb darkening coefficient for that filter"
   ]
  },
  {
   "cell_type": "code",
   "execution_count": 12,
   "metadata": {},
   "outputs": [],
   "source": [
    "def Amp_spot(Teff, Tspot, wavelength, fraction_coverage, limb_darkening):\n",
    "    assert Teff.unit == u.K\n",
    "    assert Tspot.unit == u.K\n",
    "    assert wavelength.decompose().unit == u.m\n",
    "    return -2.5 * np.log10(1 - \\\n",
    "        (fraction_coverage / (1. - limb_darkening / 3.)) *\\\n",
    "            (1 - myBlackBody(wavelength, Tspot) / myBlackBody(lb,Teff)))"
   ]
  },
  {
   "cell_type": "markdown",
   "metadata": {},
   "source": [
    "The typical temperatures and spot coverages will be based on the spot parameters derived by [Venuti et al. 2015](https://ui.adsabs.harvard.edu/abs/2015A%26A...581A..66V/abstract). This can be read from the table `spotLaura.dat`, which has been processed by myself in the context of Roquette+2020 in order to transform Laura's spectral types into temperatures and use it to transform $\\Delta T$ into spot and stellar temperatures. Note that the file `Venuti15+.fit` contains some parameters published with the paper, including the ground truth for their amplitudes in the $u$ and $r$ bands."
   ]
  },
  {
   "cell_type": "code",
   "execution_count": 19,
   "metadata": {},
   "outputs": [
    {
     "data": {
      "text/html": [
       "<div>\n",
       "<style scoped>\n",
       "    .dataframe tbody tr th:only-of-type {\n",
       "        vertical-align: middle;\n",
       "    }\n",
       "\n",
       "    .dataframe tbody tr th {\n",
       "        vertical-align: top;\n",
       "    }\n",
       "\n",
       "    .dataframe thead th {\n",
       "        text-align: right;\n",
       "    }\n",
       "</style>\n",
       "<table border=\"1\" class=\"dataframe\">\n",
       "  <thead>\n",
       "    <tr style=\"text-align: right;\">\n",
       "      <th></th>\n",
       "      <th>#Mon</th>\n",
       "      <th>SpT</th>\n",
       "      <th>Tspot</th>\n",
       "      <th>Teff</th>\n",
       "      <th>Feq(%)</th>\n",
       "    </tr>\n",
       "  </thead>\n",
       "  <tbody>\n",
       "    <tr>\n",
       "      <th>0</th>\n",
       "      <td>57</td>\n",
       "      <td>M3</td>\n",
       "      <td>2697.376319</td>\n",
       "      <td>3357.376319</td>\n",
       "      <td>25.0</td>\n",
       "    </tr>\n",
       "    <tr>\n",
       "      <th>1</th>\n",
       "      <td>78</td>\n",
       "      <td>M3</td>\n",
       "      <td>3697.376319</td>\n",
       "      <td>3357.376319</td>\n",
       "      <td>10.0</td>\n",
       "    </tr>\n",
       "    <tr>\n",
       "      <th>2</th>\n",
       "      <td>80</td>\n",
       "      <td>M3</td>\n",
       "      <td>5597.376319</td>\n",
       "      <td>3357.376319</td>\n",
       "      <td>1.0</td>\n",
       "    </tr>\n",
       "    <tr>\n",
       "      <th>3</th>\n",
       "      <td>90</td>\n",
       "      <td>M3</td>\n",
       "      <td>3397.376319</td>\n",
       "      <td>3357.376319</td>\n",
       "      <td>59.0</td>\n",
       "    </tr>\n",
       "    <tr>\n",
       "      <th>4</th>\n",
       "      <td>102</td>\n",
       "      <td>M3</td>\n",
       "      <td>2497.376319</td>\n",
       "      <td>3357.376319</td>\n",
       "      <td>13.0</td>\n",
       "    </tr>\n",
       "  </tbody>\n",
       "</table>\n",
       "</div>"
      ],
      "text/plain": [
       "   #Mon SpT        Tspot         Teff  Feq(%)\n",
       "0    57  M3  2697.376319  3357.376319    25.0\n",
       "1    78  M3  3697.376319  3357.376319    10.0\n",
       "2    80  M3  5597.376319  3357.376319     1.0\n",
       "3    90  M3  3397.376319  3357.376319    59.0\n",
       "4   102  M3  2497.376319  3357.376319    13.0"
      ]
     },
     "execution_count": 19,
     "metadata": {},
     "output_type": "execute_result"
    }
   ],
   "source": [
    "import pandas as pd\n",
    "laura_spots = pd.read_csv('spotLaura.dat', sep='\\s+')\n",
    "laura_spots.drop(columns=['muJ', 'muH', 'mK'], inplace=True)\n",
    "laura_spots.head()"
   ]
  },
  {
   "cell_type": "markdown",
   "metadata": {},
   "source": [
    "The limb-darkening coefficients are from [Claret & Bloemen 2011](https://ui.adsabs.harvard.edu/abs/2011A%26A...529A..75C/abstract)"
   ]
  },
  {
   "cell_type": "code",
   "execution_count": 45,
   "metadata": {},
   "outputs": [
    {
     "name": "stderr",
     "output_type": "stream",
     "text": [
      "WARNING: UnitsWarning: '[cm/s2]' did not parse as fits unit: Invalid character at col 0 If this is meant to be a custom unit, define it with 'u.def_unit'. To have it recognized inside a file reader or other code, enable it with 'u.add_enabled_units'. For details, see https://docs.astropy.org/en/latest/units/combining_and_defining.html [astropy.units.core]\n",
      "WARNING: UnitsWarning: '[Sun]' did not parse as fits unit: Invalid character at col 0 If this is meant to be a custom unit, define it with 'u.def_unit'. To have it recognized inside a file reader or other code, enable it with 'u.add_enabled_units'. For details, see https://docs.astropy.org/en/latest/units/combining_and_defining.html [astropy.units.core]\n"
     ]
    },
    {
     "data": {
      "text/plain": [
       "540736"
      ]
     },
     "execution_count": 45,
     "metadata": {},
     "output_type": "execute_result"
    }
   ],
   "source": [
    "from astropy.table import Table\n",
    "limb_darkening_coefficients = Table.read('LimbDarkeningClaret&Blomen_2011.fit', format='fits')\n",
    "len(limb_darkening_coefficients)"
   ]
  },
  {
   "cell_type": "markdown",
   "metadata": {},
   "source": [
    "For the moment, I will assume a $logg\\approx4$ for YSOs and consider only solar metalicity ($Z = log[M/H] = 0)"
   ]
  },
  {
   "cell_type": "code",
   "execution_count": 47,
   "metadata": {},
   "outputs": [],
   "source": [
    "limb_darkening_coefficients = limb_darkening_coefficients[\\\n",
    "    (limb_darkening_coefficients['logg'] == 4.) &\\\n",
    "        (limb_darkening_coefficients['Z'] == 0.)]"
   ]
  },
  {
   "cell_type": "markdown",
   "metadata": {},
   "source": [
    " I will ignore the 'uvby' system as no one uses this nowadays. "
   ]
  },
  {
   "cell_type": "code",
   "execution_count": 61,
   "metadata": {},
   "outputs": [
    {
     "name": "stdout",
     "output_type": "stream",
     "text": [
      "18956\n",
      "16108\n"
     ]
    }
   ],
   "source": [
    "print(len(limb_darkening_coefficients))\n",
    "for ft in [\"u \", 'v ', 'b ', 'y ']:\n",
    "    limb_darkening_coefficients = limb_darkening_coefficients[limb_darkening_coefficients['Filt'] != ft]\n",
    "print(len(limb_darkening_coefficients))"
   ]
  },
  {
   "cell_type": "markdown",
   "metadata": {},
   "source": [
    "I wll also drop temperatures larger than 7,300K, since I am interested in low-mass YSOs which will not be more massive than F0."
   ]
  },
  {
   "cell_type": "code",
   "execution_count": 62,
   "metadata": {},
   "outputs": [
    {
     "name": "stdout",
     "output_type": "stream",
     "text": [
      "16108\n",
      "4280\n"
     ]
    }
   ],
   "source": [
    "print(len(limb_darkening_coefficients))\n",
    "limb_darkening_coefficients = limb_darkening_coefficients[limb_darkening_coefficients['Teff'] <= 7300.]\n",
    "print(len(limb_darkening_coefficients))"
   ]
  },
  {
   "cell_type": "code",
   "execution_count": 63,
   "metadata": {},
   "outputs": [
    {
     "data": {
      "text/html": [
       "<div><i>Table length=4280</i>\n",
       "<table id=\"table4372121104\" class=\"table-striped table-bordered table-condensed\">\n",
       "<thead><tr><th>logg</th><th>Teff</th><th>Z</th><th>xi</th><th>u</th><th>Filt</th><th>Met</th><th>Mod</th></tr></thead>\n",
       "<thead><tr><th>[cm/s2]</th><th>K</th><th>[Sun]</th><th>km / s</th><th></th><th></th><th></th><th></th></tr></thead>\n",
       "<thead><tr><th>float64</th><th>float64</th><th>float64</th><th>float64</th><th>float64</th><th>bytes2</th><th>bytes1</th><th>bytes2</th></tr></thead>\n",
       "<tr><td>4.0</td><td>3500.0</td><td>0.0</td><td>0.0</td><td>0.6846</td><td>Kp</td><td>L</td><td>A</td></tr>\n",
       "<tr><td>4.0</td><td>3750.0</td><td>0.0</td><td>0.0</td><td>0.7109</td><td>Kp</td><td>L</td><td>A</td></tr>\n",
       "<tr><td>4.0</td><td>4000.0</td><td>0.0</td><td>0.0</td><td>0.7545</td><td>Kp</td><td>L</td><td>A</td></tr>\n",
       "<tr><td>4.0</td><td>4250.0</td><td>0.0</td><td>0.0</td><td>0.7548</td><td>Kp</td><td>L</td><td>A</td></tr>\n",
       "<tr><td>4.0</td><td>4500.0</td><td>0.0</td><td>0.0</td><td>0.7308</td><td>Kp</td><td>L</td><td>A</td></tr>\n",
       "<tr><td>4.0</td><td>4750.0</td><td>0.0</td><td>0.0</td><td>0.7058</td><td>Kp</td><td>L</td><td>A</td></tr>\n",
       "<tr><td>4.0</td><td>5000.0</td><td>0.0</td><td>0.0</td><td>0.6798</td><td>Kp</td><td>L</td><td>A</td></tr>\n",
       "<tr><td>4.0</td><td>5250.0</td><td>0.0</td><td>0.0</td><td>0.6524</td><td>Kp</td><td>L</td><td>A</td></tr>\n",
       "<tr><td>4.0</td><td>5500.0</td><td>0.0</td><td>0.0</td><td>0.6243</td><td>Kp</td><td>L</td><td>A</td></tr>\n",
       "<tr><td>...</td><td>...</td><td>...</td><td>...</td><td>...</td><td>...</td><td>...</td><td>...</td></tr>\n",
       "<tr><td>4.0</td><td>5000.0</td><td>0.0</td><td>8.0</td><td>0.4718</td><td>z&apos;</td><td>F</td><td>P</td></tr>\n",
       "<tr><td>4.0</td><td>5250.0</td><td>0.0</td><td>8.0</td><td>0.443</td><td>z&apos;</td><td>F</td><td>P</td></tr>\n",
       "<tr><td>4.0</td><td>5500.0</td><td>0.0</td><td>8.0</td><td>0.4146</td><td>z&apos;</td><td>F</td><td>P</td></tr>\n",
       "<tr><td>4.0</td><td>5750.0</td><td>0.0</td><td>8.0</td><td>0.3873</td><td>z&apos;</td><td>F</td><td>P</td></tr>\n",
       "<tr><td>4.0</td><td>6000.0</td><td>0.0</td><td>8.0</td><td>0.3619</td><td>z&apos;</td><td>F</td><td>P</td></tr>\n",
       "<tr><td>4.0</td><td>6250.0</td><td>0.0</td><td>8.0</td><td>0.3407</td><td>z&apos;</td><td>F</td><td>P</td></tr>\n",
       "<tr><td>4.0</td><td>6500.0</td><td>0.0</td><td>8.0</td><td>0.3231</td><td>z&apos;</td><td>F</td><td>P</td></tr>\n",
       "<tr><td>4.0</td><td>6750.0</td><td>0.0</td><td>8.0</td><td>0.3071</td><td>z&apos;</td><td>F</td><td>P</td></tr>\n",
       "<tr><td>4.0</td><td>7000.0</td><td>0.0</td><td>8.0</td><td>0.2926</td><td>z&apos;</td><td>F</td><td>P</td></tr>\n",
       "<tr><td>4.0</td><td>7250.0</td><td>0.0</td><td>8.0</td><td>0.2801</td><td>z&apos;</td><td>F</td><td>P</td></tr>\n",
       "</table></div>"
      ],
      "text/plain": [
       "<Table length=4280>\n",
       "  logg    Teff     Z       xi      u     Filt   Met    Mod  \n",
       "[cm/s2]    K     [Sun]   km / s                             \n",
       "float64 float64 float64 float64 float64 bytes2 bytes1 bytes2\n",
       "------- ------- ------- ------- ------- ------ ------ ------\n",
       "    4.0  3500.0     0.0     0.0  0.6846     Kp      L     A\n",
       "    4.0  3750.0     0.0     0.0  0.7109     Kp      L     A\n",
       "    4.0  4000.0     0.0     0.0  0.7545     Kp      L     A\n",
       "    4.0  4250.0     0.0     0.0  0.7548     Kp      L     A\n",
       "    4.0  4500.0     0.0     0.0  0.7308     Kp      L     A\n",
       "    4.0  4750.0     0.0     0.0  0.7058     Kp      L     A\n",
       "    4.0  5000.0     0.0     0.0  0.6798     Kp      L     A\n",
       "    4.0  5250.0     0.0     0.0  0.6524     Kp      L     A\n",
       "    4.0  5500.0     0.0     0.0  0.6243     Kp      L     A\n",
       "    ...     ...     ...     ...     ...    ...    ...    ...\n",
       "    4.0  5000.0     0.0     8.0  0.4718     z'      F     P\n",
       "    4.0  5250.0     0.0     8.0   0.443     z'      F     P\n",
       "    4.0  5500.0     0.0     8.0  0.4146     z'      F     P\n",
       "    4.0  5750.0     0.0     8.0  0.3873     z'      F     P\n",
       "    4.0  6000.0     0.0     8.0  0.3619     z'      F     P\n",
       "    4.0  6250.0     0.0     8.0  0.3407     z'      F     P\n",
       "    4.0  6500.0     0.0     8.0  0.3231     z'      F     P\n",
       "    4.0  6750.0     0.0     8.0  0.3071     z'      F     P\n",
       "    4.0  7000.0     0.0     8.0  0.2926     z'      F     P\n",
       "    4.0  7250.0     0.0     8.0  0.2801     z'      F     P"
      ]
     },
     "execution_count": 63,
     "metadata": {},
     "output_type": "execute_result"
    }
   ],
   "source": [
    "limb_darkening_coefficients"
   ]
  },
  {
   "cell_type": "markdown",
   "metadata": {},
   "source": [
    "Finally, I used the [SVO-database](http://svo2.cab.inta-csic.es/svo/theory/fps/index.php?mode=browse&gname=Generic&gname2=Johnson_UBVRIJHKL&asttype=) to retrieve some extra info on the filters for which they provide limb-darkening."
   ]
  },
  {
   "cell_type": "code",
   "execution_count": 80,
   "metadata": {},
   "outputs": [],
   "source": [
    "effective_wavelength = {\n",
    "    'Kp': 5978.14*u.angstrom,\n",
    "    'U': 3551.05*u.angstrom,\n",
    "    'B': 4361.93*u.angstrom,\n",
    "    'V': 5467.57*u.angstrom,\n",
    "    'R': 6695.83*u.angstrom,\n",
    "    'I': 8568.89*u.angstrom,\n",
    "    'J': 12094.21*u.angstrom,\n",
    "    'H': 16303.58*u.angstrom,\n",
    "    'K': 21429.69*u.angstrom, \n",
    "    'S1': 35074.83*u.angstrom,\n",
    "    'S2': 44365.56*u.angstrom,\n",
    "    'S3': 56280.62*u.angstrom,\n",
    "    'S4': 75890.54*u.angstrom,\n",
    "    'C':  10895.94*u.angstrom,\n",
    "    \"g'\": 5690.45*u.angstrom,\n",
    "    \"i'\": 8730.62*u.angstrom,\n",
    "    \"r'\": 7176.14*u.angstrom,\n",
    "    \"z'\": 13500.00*u.angstrom,\n",
    "    \"u'\": 3987.70*u.angstrom\n",
    "}"
   ]
  },
  {
   "cell_type": "code",
   "execution_count": 81,
   "metadata": {},
   "outputs": [],
   "source": [
    "Names = {\n",
    "    'Kp': 'Kepler', \n",
    "    'U': 'Johnson-Cousin',\n",
    "    'B': 'Johnson-Cousin',\n",
    "    'V': 'Johnson-Cousin',\n",
    "    'R': 'Johnson-Cousin',\n",
    "    'I': 'Johnson-Cousin',\n",
    "    'J': 'Johnson-Cousin',\n",
    "    'H': 'Johnson-Cousin',\n",
    "    'K': 'Johnson-Cousin',\n",
    "    'S1': 'Spitzer/IRAC',\n",
    "    'S2': 'Spitzer/IRAC',\n",
    "    'S3': 'Spitzer/IRAC',\n",
    "    'S4': 'Spitzer/IRAC',\n",
    "    \"u'\": 'Sloan',\n",
    "    \"g'\": 'Sloan',\n",
    "    \"r'\": 'Sloan',\n",
    "    \"i'\": 'Sloan',\n",
    "    \"z'\": 'Sloan',\n",
    "    'C': 'CoRoT'\n",
    "}"
   ]
  },
  {
   "cell_type": "code",
   "execution_count": 87,
   "metadata": {},
   "outputs": [
    {
     "data": {
      "text/plain": [
       "True"
      ]
     },
     "execution_count": 87,
     "metadata": {},
     "output_type": "execute_result"
    }
   ],
   "source": [
    "effective_wavelength['C'].decompose().unit  == u.m"
   ]
  },
  {
   "cell_type": "code",
   "execution_count": 83,
   "metadata": {},
   "outputs": [
    {
     "ename": "AssertionError",
     "evalue": "",
     "output_type": "error",
     "traceback": [
      "\u001b[0;31m---------------------------------------------------------------------------\u001b[0m",
      "\u001b[0;31mAssertionError\u001b[0m                            Traceback (most recent call last)",
      "Cell \u001b[0;32mIn[83], line 7\u001b[0m\n\u001b[1;32m      4\u001b[0m Teff \u001b[38;5;241m=\u001b[39m Teff\u001b[38;5;241m*\u001b[39mu\u001b[38;5;241m.\u001b[39mK\n\u001b[1;32m      5\u001b[0m \u001b[38;5;28;01mfor\u001b[39;00m f \u001b[38;5;129;01min\u001b[39;00m [\u001b[38;5;241m0.1\u001b[39m, \u001b[38;5;241m1\u001b[39m, \u001b[38;5;241m10.\u001b[39m]:\n\u001b[1;32m      6\u001b[0m     \u001b[38;5;28mprint\u001b[39m(\u001b[38;5;124mf\u001b[39m\u001b[38;5;124m\"\u001b[39m\u001b[38;5;124mT* \u001b[39m\u001b[38;5;132;01m{\u001b[39;00m\u001b[38;5;241m0\u001b[39m\u001b[38;5;132;01m}\u001b[39;00m\u001b[38;5;124m, Tspot \u001b[39m\u001b[38;5;132;01m{\u001b[39;00m\u001b[38;5;241m1\u001b[39m\u001b[38;5;132;01m}\u001b[39;00m\u001b[38;5;124m, f \u001b[39m\u001b[38;5;132;01m{\u001b[39;00m\u001b[38;5;241m2\u001b[39m\u001b[38;5;132;01m}\u001b[39;00m\u001b[38;5;124m, $\u001b[39m\u001b[38;5;124m\\\u001b[39m\u001b[38;5;124mDelta$ m for CoRoT: \u001b[39m\u001b[38;5;132;01m{\u001b[39;00m\u001b[38;5;241m3\u001b[39m\u001b[38;5;132;01m}\u001b[39;00m\u001b[38;5;124m\"\u001b[39m\u001b[38;5;241m.\u001b[39mformat(Teff,\\\n\u001b[0;32m----> 7\u001b[0m         T_spot, f, \u001b[43mAmp_spot\u001b[49m\u001b[43m(\u001b[49m\u001b[43mTeff\u001b[49m\u001b[43m,\u001b[49m\u001b[43m \u001b[49m\u001b[43mT_spot\u001b[49m\u001b[43m,\u001b[49m\u001b[43m \u001b[49m\u001b[43meffective_wavelength\u001b[49m\u001b[43m[\u001b[49m\u001b[38;5;124;43m'\u001b[39;49m\u001b[38;5;124;43mC\u001b[39;49m\u001b[38;5;124;43m'\u001b[39;49m\u001b[43m]\u001b[49m\u001b[38;5;241;43m.\u001b[39;49m\u001b[43mto\u001b[49m\u001b[43m(\u001b[49m\u001b[43mu\u001b[49m\u001b[38;5;241;43m.\u001b[39;49m\u001b[43mm\u001b[49m\u001b[43m)\u001b[49m\u001b[43m,\u001b[49m\u001b[43m \u001b[49m\u001b[43mf\u001b[49m\u001b[43m,\u001b[49m\u001b[43m\\\u001b[49m\n\u001b[1;32m      8\u001b[0m \u001b[43m            \u001b[49m\u001b[43mlimb_darkening_coefficients_\u001b[49m\u001b[43m[\u001b[49m\u001b[38;5;124;43m'\u001b[39;49m\u001b[38;5;124;43mu\u001b[39;49m\u001b[38;5;124;43m'\u001b[39;49m\u001b[43m]\u001b[49m\u001b[43m[\u001b[49m\u001b[43mi\u001b[49m\u001b[43m]\u001b[49m\u001b[43m)\u001b[49m))\n",
      "Cell \u001b[0;32mIn[12], line 7\u001b[0m, in \u001b[0;36mAmp_spot\u001b[0;34m(Teff, Tspot, wavelength, fraction_coverage, limb_darkening)\u001b[0m\n\u001b[1;32m      3\u001b[0m Tspot \u001b[38;5;241m=\u001b[39m Tspot \u001b[38;5;241m*\u001b[39m u\u001b[38;5;241m.\u001b[39mK\n\u001b[1;32m      4\u001b[0m wavelength \u001b[38;5;241m=\u001b[39m wavelength \u001b[38;5;241m*\u001b[39m u\u001b[38;5;241m.\u001b[39mnm\n\u001b[1;32m      5\u001b[0m \u001b[38;5;28;01mreturn\u001b[39;00m \u001b[38;5;241m-\u001b[39m\u001b[38;5;241m2.5\u001b[39m \u001b[38;5;241m*\u001b[39m np\u001b[38;5;241m.\u001b[39mlog10(\u001b[38;5;241m1\u001b[39m \u001b[38;5;241m-\u001b[39m \\\n\u001b[1;32m      6\u001b[0m     (fraction_coverage \u001b[38;5;241m/\u001b[39m (\u001b[38;5;241m1.\u001b[39m \u001b[38;5;241m-\u001b[39m limb_darkening \u001b[38;5;241m/\u001b[39m \u001b[38;5;241m3.\u001b[39m)) \u001b[38;5;241m*\u001b[39m\\\n\u001b[0;32m----> 7\u001b[0m         (\u001b[38;5;241m1\u001b[39m \u001b[38;5;241m-\u001b[39m \u001b[43mmyBlackBody\u001b[49m\u001b[43m(\u001b[49m\u001b[43mwavelength\u001b[49m\u001b[43m,\u001b[49m\u001b[43m \u001b[49m\u001b[43mTspot\u001b[49m\u001b[43m)\u001b[49m \u001b[38;5;241m/\u001b[39m myBlackBody(lb,Teff)))\n",
      "Cell \u001b[0;32mIn[13], line 6\u001b[0m, in \u001b[0;36mmyBlackBody\u001b[0;34m(wl, Teff)\u001b[0m\n\u001b[1;32m      1\u001b[0m \u001b[38;5;28;01mdef\u001b[39;00m \u001b[38;5;21mmyBlackBody\u001b[39m(wl, Teff):\n\u001b[1;32m      2\u001b[0m \u001b[38;5;250m    \u001b[39m\u001b[38;5;124;03m\"\"\"\u001b[39;00m\n\u001b[1;32m      3\u001b[0m \u001b[38;5;124;03m    BlackBody equation considering a sphere irradiating. \u001b[39;00m\n\u001b[1;32m      4\u001b[0m \u001b[38;5;124;03m    Equation (1) above.\u001b[39;00m\n\u001b[1;32m      5\u001b[0m \u001b[38;5;124;03m    \"\"\"\u001b[39;00m\n\u001b[0;32m----> 6\u001b[0m     \u001b[38;5;28;01massert\u001b[39;00m wl\u001b[38;5;241m.\u001b[39mdecompose()\u001b[38;5;241m.\u001b[39munit \u001b[38;5;241m==\u001b[39m u\u001b[38;5;241m.\u001b[39mm\n\u001b[1;32m      7\u001b[0m     \u001b[38;5;28;01massert\u001b[39;00m Teff\u001b[38;5;241m.\u001b[39munit \u001b[38;5;241m==\u001b[39m u\u001b[38;5;241m.\u001b[39mK\n\u001b[1;32m      8\u001b[0m     B \u001b[38;5;241m=\u001b[39m (\u001b[38;5;241m4.\u001b[39m \u001b[38;5;241m*\u001b[39m np\u001b[38;5;241m.\u001b[39mpi \u001b[38;5;241m*\u001b[39m \u001b[38;5;241m2.\u001b[39m \u001b[38;5;241m*\u001b[39m q\u001b[38;5;241m.\u001b[39mh \u001b[38;5;241m*\u001b[39m q\u001b[38;5;241m.\u001b[39mc\u001b[38;5;241m*\u001b[39m\u001b[38;5;241m*\u001b[39m\u001b[38;5;241m2\u001b[39m \u001b[38;5;241m/\u001b[39m wl\u001b[38;5;241m*\u001b[39m\u001b[38;5;241m*\u001b[39m\u001b[38;5;241m5\u001b[39m) \u001b[38;5;241m*\u001b[39m \u001b[38;5;241m1\u001b[39m \u001b[38;5;241m/\u001b[39m (np\u001b[38;5;241m.\u001b[39mexp(q\u001b[38;5;241m.\u001b[39mh \u001b[38;5;241m*\u001b[39m q\u001b[38;5;241m.\u001b[39mc \u001b[38;5;241m/\u001b[39m (wl \u001b[38;5;241m*\u001b[39m q\u001b[38;5;241m.\u001b[39mk_B \u001b[38;5;241m*\u001b[39m Teff)) \u001b[38;5;241m-\u001b[39m \u001b[38;5;241m1\u001b[39m)\n",
      "\u001b[0;31mAssertionError\u001b[0m: "
     ]
    }
   ],
   "source": [
    "limb_darkening_coefficients_ = limb_darkening_coefficients[limb_darkening_coefficients['Filt'] == 'C ']\n",
    "for i, Teff in enumerate(limb_darkening_coefficients_['Teff']):\n",
    "    T_spot = (Teff - 500.)*u.K\n",
    "    Teff = Teff*u.K\n",
    "    for f in [0.1, 1, 10.]:\n",
    "        print(f\"T* {0}, Tspot {1}, f {2}, $\\Delta$ m for CoRoT: {3}\".format(Teff,\\\n",
    "            T_spot, f, Amp_spot(Teff, T_spot, effective_wavelength['C'].to(u.m), f,\\\n",
    "                limb_darkening_coefficients_['u'][i])))\n",
    "    "
   ]
  },
  {
   "cell_type": "code",
   "execution_count": 70,
   "metadata": {},
   "outputs": [
    {
     "data": {
      "text/html": [
       "<div><i>Table length=204</i>\n",
       "<table id=\"table5075716176\" class=\"table-striped table-bordered table-condensed\">\n",
       "<thead><tr><th>logg</th><th>Teff</th><th>Z</th><th>xi</th><th>u</th><th>Filt</th><th>Met</th><th>Mod</th></tr></thead>\n",
       "<thead><tr><th>[cm/s2]</th><th>K</th><th>[Sun]</th><th>km / s</th><th></th><th></th><th></th><th></th></tr></thead>\n",
       "<thead><tr><th>float64</th><th>float64</th><th>float64</th><th>float64</th><th>float64</th><th>bytes2</th><th>bytes1</th><th>bytes2</th></tr></thead>\n",
       "<tr><td>4.0</td><td>3500.0</td><td>0.0</td><td>0.0</td><td>0.6739</td><td>C</td><td>L</td><td>A</td></tr>\n",
       "<tr><td>4.0</td><td>3750.0</td><td>0.0</td><td>0.0</td><td>0.7009</td><td>C</td><td>L</td><td>A</td></tr>\n",
       "<tr><td>4.0</td><td>4000.0</td><td>0.0</td><td>0.0</td><td>0.7447</td><td>C</td><td>L</td><td>A</td></tr>\n",
       "<tr><td>4.0</td><td>4250.0</td><td>0.0</td><td>0.0</td><td>0.746</td><td>C</td><td>L</td><td>A</td></tr>\n",
       "<tr><td>4.0</td><td>4500.0</td><td>0.0</td><td>0.0</td><td>0.7231</td><td>C</td><td>L</td><td>A</td></tr>\n",
       "<tr><td>4.0</td><td>4750.0</td><td>0.0</td><td>0.0</td><td>0.6991</td><td>C</td><td>L</td><td>A</td></tr>\n",
       "<tr><td>4.0</td><td>5000.0</td><td>0.0</td><td>0.0</td><td>0.674</td><td>C</td><td>L</td><td>A</td></tr>\n",
       "<tr><td>4.0</td><td>5250.0</td><td>0.0</td><td>0.0</td><td>0.6474</td><td>C</td><td>L</td><td>A</td></tr>\n",
       "<tr><td>4.0</td><td>5500.0</td><td>0.0</td><td>0.0</td><td>0.6199</td><td>C</td><td>L</td><td>A</td></tr>\n",
       "<tr><td>...</td><td>...</td><td>...</td><td>...</td><td>...</td><td>...</td><td>...</td><td>...</td></tr>\n",
       "<tr><td>4.0</td><td>4400.0</td><td>0.0</td><td>2.0</td><td>0.7529</td><td>C</td><td>F</td><td>P</td></tr>\n",
       "<tr><td>4.0</td><td>4600.0</td><td>0.0</td><td>2.0</td><td>0.7241</td><td>C</td><td>F</td><td>P</td></tr>\n",
       "<tr><td>4.0</td><td>4800.0</td><td>0.0</td><td>2.0</td><td>0.7019</td><td>C</td><td>F</td><td>P</td></tr>\n",
       "<tr><td>4.0</td><td>5000.0</td><td>0.0</td><td>2.0</td><td>0.6474</td><td>C</td><td>F</td><td>P</td></tr>\n",
       "<tr><td>4.0</td><td>5200.0</td><td>0.0</td><td>2.0</td><td>0.6257</td><td>C</td><td>F</td><td>P</td></tr>\n",
       "<tr><td>4.0</td><td>5400.0</td><td>0.0</td><td>2.0</td><td>0.606</td><td>C</td><td>F</td><td>P</td></tr>\n",
       "<tr><td>4.0</td><td>5600.0</td><td>0.0</td><td>2.0</td><td>0.5901</td><td>C</td><td>F</td><td>P</td></tr>\n",
       "<tr><td>4.0</td><td>5800.0</td><td>0.0</td><td>2.0</td><td>0.5752</td><td>C</td><td>F</td><td>P</td></tr>\n",
       "<tr><td>4.0</td><td>7000.0</td><td>0.0</td><td>2.0</td><td>0.498</td><td>C</td><td>F</td><td>P</td></tr>\n",
       "<tr><td>4.0</td><td>7200.0</td><td>0.0</td><td>2.0</td><td>0.4771</td><td>C</td><td>F</td><td>P</td></tr>\n",
       "</table></div>"
      ],
      "text/plain": [
       "<Table length=204>\n",
       "  logg    Teff     Z       xi      u     Filt   Met    Mod  \n",
       "[cm/s2]    K     [Sun]   km / s                             \n",
       "float64 float64 float64 float64 float64 bytes2 bytes1 bytes2\n",
       "------- ------- ------- ------- ------- ------ ------ ------\n",
       "    4.0  3500.0     0.0     0.0  0.6739     C       L     A\n",
       "    4.0  3750.0     0.0     0.0  0.7009     C       L     A\n",
       "    4.0  4000.0     0.0     0.0  0.7447     C       L     A\n",
       "    4.0  4250.0     0.0     0.0   0.746     C       L     A\n",
       "    4.0  4500.0     0.0     0.0  0.7231     C       L     A\n",
       "    4.0  4750.0     0.0     0.0  0.6991     C       L     A\n",
       "    4.0  5000.0     0.0     0.0   0.674     C       L     A\n",
       "    4.0  5250.0     0.0     0.0  0.6474     C       L     A\n",
       "    4.0  5500.0     0.0     0.0  0.6199     C       L     A\n",
       "    ...     ...     ...     ...     ...    ...    ...    ...\n",
       "    4.0  4400.0     0.0     2.0  0.7529     C       F     P\n",
       "    4.0  4600.0     0.0     2.0  0.7241     C       F     P\n",
       "    4.0  4800.0     0.0     2.0  0.7019     C       F     P\n",
       "    4.0  5000.0     0.0     2.0  0.6474     C       F     P\n",
       "    4.0  5200.0     0.0     2.0  0.6257     C       F     P\n",
       "    4.0  5400.0     0.0     2.0   0.606     C       F     P\n",
       "    4.0  5600.0     0.0     2.0  0.5901     C       F     P\n",
       "    4.0  5800.0     0.0     2.0  0.5752     C       F     P\n",
       "    4.0  7000.0     0.0     2.0   0.498     C       F     P\n",
       "    4.0  7200.0     0.0     2.0  0.4771     C       F     P"
      ]
     },
     "execution_count": 70,
     "metadata": {},
     "output_type": "execute_result"
    }
   ],
   "source": [
    "limb_darkening_coefficients_"
   ]
  },
  {
   "cell_type": "markdown",
   "metadata": {},
   "source": [
    "## Example of application: "
   ]
  },
  {
   "cell_type": "markdown",
   "metadata": {},
   "source": []
  }
 ],
 "metadata": {
  "kernelspec": {
   "display_name": "NEMESIS",
   "language": "python",
   "name": "python3"
  },
  "language_info": {
   "codemirror_mode": {
    "name": "ipython",
    "version": 3
   },
   "file_extension": ".py",
   "mimetype": "text/x-python",
   "name": "python",
   "nbconvert_exporter": "python",
   "pygments_lexer": "ipython3",
   "version": "3.10.13"
  }
 },
 "nbformat": 4,
 "nbformat_minor": 2
}
